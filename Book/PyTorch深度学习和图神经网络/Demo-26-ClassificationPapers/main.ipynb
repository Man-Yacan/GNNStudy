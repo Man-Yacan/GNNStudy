{
 "cells": [
  {
   "cell_type": "code",
   "execution_count": 147,
   "metadata": {
    "collapsed": true,
    "ExecuteTime": {
     "end_time": "2024-01-16T07:18:39.797902800Z",
     "start_time": "2024-01-16T07:18:39.775876100Z"
    }
   },
   "outputs": [],
   "source": [
    "import hues\n",
    "import torch\n",
    "import numpy as np\n",
    "import pandas as pd\n",
    "import matplotlib.pyplot as plt\n",
    "\n",
    "from torch import nn\n",
    "from pathlib import Path\n",
    "from prettytable import PrettyTable\n",
    "from torch.nn import functional as nn_fun\n",
    "from scipy.sparse import coo_matrix, csr_matrix, diags, eye"
   ]
  },
  {
   "cell_type": "code",
   "execution_count": 148,
   "outputs": [
    {
     "name": "stdout",
     "output_type": "stream",
     "text": [
      "cuda\n"
     ]
    }
   ],
   "source": [
    "#输出运算资源请况\n",
    "device = torch.device('cuda') if torch.cuda.is_available() else torch.device('cpu')\n",
    "print(device)"
   ],
   "metadata": {
    "collapsed": false,
    "ExecuteTime": {
     "end_time": "2024-01-16T07:18:39.828557400Z",
     "start_time": "2024-01-16T07:18:39.784215800Z"
    }
   }
  },
  {
   "cell_type": "code",
   "execution_count": 149,
   "outputs": [
    {
     "name": "stdout",
     "output_type": "stream",
     "text": [
      "..\\..\\pytorch-GNN-1st-main\\pytorch-GNN-1st-main\\data\\第9章28\\第9章28\\cora\n"
     ]
    }
   ],
   "source": [
    "#输出样本路径\n",
    "path = Path('..\\..\\pytorch-GNN-1st-main\\pytorch-GNN-1st-main\\data\\第9章28\\第9章28\\cora')\n",
    "print(path)"
   ],
   "metadata": {
    "collapsed": false,
    "ExecuteTime": {
     "end_time": "2024-01-16T07:18:39.840356100Z",
     "start_time": "2024-01-16T07:18:39.800045700Z"
    }
   }
  },
  {
   "cell_type": "code",
   "execution_count": 150,
   "outputs": [
    {
     "name": "stdout",
     "output_type": "stream",
     "text": [
      "(2708, 1435)\n"
     ]
    },
    {
     "data": {
      "text/plain": "array([['31336', '0', '0', ..., '0', '0', 'Neural_Networks'],\n       ['1061127', '0', '0', ..., '0', '0', 'Rule_Learning'],\n       ['1106406', '0', '0', ..., '0', '0', 'Reinforcement_Learning'],\n       ...,\n       ['1128978', '0', '0', ..., '0', '0', 'Genetic_Algorithms'],\n       ['117328', '0', '0', ..., '0', '0', 'Case_Based'],\n       ['24043', '0', '0', ..., '0', '0', 'Neural_Networks']],\n      dtype='<U22')"
     },
     "execution_count": 150,
     "metadata": {},
     "output_type": "execute_result"
    }
   ],
   "source": [
    "#读取论文内容数据，并将其转化为数组\n",
    "paper_features_label = np.genfromtxt(path / 'cora.content', dtype=np.str_)\n",
    "print(paper_features_label.shape)\n",
    "paper_features_label"
   ],
   "metadata": {
    "collapsed": false,
    "ExecuteTime": {
     "end_time": "2024-01-16T07:18:40.870400200Z",
     "start_time": "2024-01-16T07:18:39.815555500Z"
    }
   }
  },
  {
   "cell_type": "code",
   "execution_count": 151,
   "outputs": [
    {
     "data": {
      "text/plain": "{31336: 0,\n 1061127: 1,\n 1106406: 2,\n 13195: 3,\n 37879: 4,\n 1126012: 5,\n 1107140: 6,\n 1102850: 7,\n 31349: 8,\n 1106418: 9,\n 1123188: 10,\n 1128990: 11,\n 109323: 12,\n 217139: 13,\n 31353: 14,\n 32083: 15,\n 1126029: 16,\n 1118017: 17,\n 49482: 18,\n 753265: 19,\n 249858: 20,\n 1113739: 21,\n 48766: 22,\n 646195: 23,\n 1126050: 24,\n 59626: 25,\n 340299: 26,\n 354004: 27,\n 242637: 28,\n 1106492: 29,\n 74975: 30,\n 1152272: 31,\n 100701: 32,\n 66982: 33,\n 13960: 34,\n 13966: 35,\n 66990: 36,\n 182093: 37,\n 182094: 38,\n 13972: 39,\n 13982: 40,\n 16819: 41,\n 273152: 42,\n 237521: 43,\n 1153703: 44,\n 32872: 45,\n 284025: 46,\n 218666: 47,\n 16843: 48,\n 1153724: 49,\n 1153728: 50,\n 158098: 51,\n 8699: 52,\n 1134865: 53,\n 28456: 54,\n 248425: 55,\n 1112319: 56,\n 28471: 57,\n 175548: 58,\n 696345: 59,\n 28485: 60,\n 1139195: 61,\n 35778: 62,\n 28491: 63,\n 310530: 64,\n 1153784: 65,\n 1481: 66,\n 1153786: 67,\n 13212: 68,\n 1111614: 69,\n 5055: 70,\n 4329: 71,\n 330148: 72,\n 1105062: 73,\n 4330: 74,\n 5062: 75,\n 4335: 76,\n 158812: 77,\n 40124: 78,\n 1103610: 79,\n 688361: 80,\n 302545: 81,\n 20534: 82,\n 1031453: 83,\n 5086: 84,\n 193742: 85,\n 58268: 86,\n 424: 87,\n 40151: 88,\n 636098: 89,\n 260121: 90,\n 950052: 91,\n 434: 92,\n 1131270: 93,\n 1131274: 94,\n 1131277: 95,\n 1110947: 96,\n 662279: 97,\n 1139928: 98,\n 153063: 99,\n 134199: 100,\n 641956: 101,\n 20584: 102,\n 1130567: 103,\n 171225: 104,\n 714879: 105,\n 37998: 106,\n 50336: 107,\n 50337: 108,\n 15429: 109,\n 23448: 110,\n 1122574: 111,\n 1110998: 112,\n 853150: 113,\n 15431: 114,\n 646286: 115,\n 1152307: 116,\n 1115291: 117,\n 1106547: 118,\n 68463: 119,\n 59715: 120,\n 69198: 121,\n 7272: 122,\n 163235: 123,\n 7276: 124,\n 34315: 125,\n 644843: 126,\n 7297: 127,\n 628815: 128,\n 35061: 129,\n 68495: 130,\n 1136310: 131,\n 18313: 132,\n 34355: 133,\n 45212: 134,\n 1153091: 135,\n 8703: 136,\n 126920: 137,\n 126927: 138,\n 595157: 139,\n 140005: 140,\n 1117476: 141,\n 59798: 142,\n 219446: 143,\n 44514: 144,\n 287787: 145,\n 157401: 146,\n 1154500: 147,\n 682666: 148,\n 399173: 149,\n 198866: 150,\n 51834: 151,\n 200630: 152,\n 782486: 153,\n 1136393: 154,\n 137849: 155,\n 1153811: 156,\n 24966: 157,\n 11148: 158,\n 51866: 159,\n 24974: 160,\n 137868: 161,\n 28542: 162,\n 35: 163,\n 116021: 164,\n 348305: 165,\n 10430: 166,\n 39403: 167,\n 40: 168,\n 282700: 169,\n 1105116: 170,\n 35854: 171,\n 63477: 172,\n 124064: 173,\n 1120431: 174,\n 949318: 175,\n 649944: 176,\n 63486: 177,\n 1153866: 178,\n 1140040: 179,\n 1112426: 180,\n 239800: 181,\n 1131314: 182,\n 1153891: 183,\n 1129835: 184,\n 310653: 185,\n 1130600: 186,\n 1111733: 187,\n 210871: 188,\n 210872: 189,\n 1132083: 190,\n 132806: 191,\n 12631: 192,\n 12638: 193,\n 38771: 194,\n 232605: 195,\n 232606: 196,\n 1107312: 197,\n 1114605: 198,\n 68505: 199,\n 133553: 200,\n 144408: 201,\n 23502: 202,\n 1108050: 203,\n 23507: 204,\n 83826: 205,\n 133563: 206,\n 85299: 207,\n 49660: 208,\n 593060: 209,\n 341188: 210,\n 714975: 211,\n 1115375: 212,\n 95435: 213,\n 145176: 214,\n 1113934: 215,\n 1132809: 216,\n 22835: 217,\n 1153148: 218,\n 41714: 219,\n 1118245: 220,\n 1152436: 221,\n 1153166: 222,\n 1153169: 223,\n 38000: 224,\n 1152448: 225,\n 1137140: 226,\n 30895: 227,\n 5966: 228,\n 1136422: 229,\n 27174: 230,\n 1128407: 231,\n 1124844: 232,\n 1153195: 233,\n 1113995: 234,\n 1136442: 235,\n 8821: 236,\n 46079: 237,\n 119761: 238,\n 1111052: 239,\n 315789: 240,\n 1108841: 241,\n 1135746: 242,\n 100935: 243,\n 353541: 244,\n 60682: 245,\n 253762: 246,\n 8872: 247,\n 714260: 248,\n 137956: 249,\n 35922: 250,\n 2354: 251,\n 168410: 252,\n 346292: 253,\n 1153933: 254,\n 1119751: 255,\n 17798: 256,\n 400356: 257,\n 10531: 258,\n 1110390: 259,\n 714289: 260,\n 733167: 261,\n 81714: 262,\n 428610: 263,\n 552469: 264,\n 164885: 265,\n 81722: 266,\n 111866: 267,\n 194617: 268,\n 93318: 269,\n 134307: 270,\n 203646: 271,\n 367312: 272,\n 650814: 273,\n 93320: 274,\n 134315: 275,\n 134316: 276,\n 976334: 277,\n 1095507: 278,\n 134320: 279,\n 662416: 280,\n 194645: 281,\n 1131421: 282,\n 161221: 283,\n 38839: 284,\n 38846: 285,\n 133615: 286,\n 1112574: 287,\n 521207: 288,\n 3828: 289,\n 593105: 290,\n 390693: 291,\n 642847: 292,\n 1122704: 293,\n 4584: 294,\n 7419: 295,\n 30901: 296,\n 1115456: 297,\n 7432: 298,\n 573553: 299,\n 1022969: 300,\n 143801: 301,\n 612306: 302,\n 417017: 303,\n 396412: 304,\n 1107455: 305,\n 91975: 306,\n 180187: 307,\n 27203: 308,\n 1152508: 309,\n 69392: 310,\n 1118332: 311,\n 189577: 312,\n 1114777: 313,\n 75969: 314,\n 1132922: 315,\n 1153254: 316,\n 1117618: 317,\n 6767: 318,\n 27241: 319,\n 27246: 320,\n 95589: 321,\n 6771: 322,\n 86840: 323,\n 108962: 324,\n 6786: 325,\n 108963: 326,\n 108974: 327,\n 1117653: 328,\n 1152569: 329,\n 1132968: 330,\n 370366: 331,\n 108983: 332,\n 399339: 333,\n 64319: 334,\n 1110426: 335,\n 1102407: 336,\n 1127812: 337,\n 1128542: 338,\n 65057: 339,\n 159084: 340,\n 159085: 341,\n 65074: 342,\n 33895: 343,\n 2440: 344,\n 1717: 345,\n 249421: 346,\n 3187: 347,\n 591016: 348,\n 1110494: 349,\n 29492: 350,\n 400473: 351,\n 644334: 352,\n 949511: 353,\n 205192: 354,\n 763009: 355,\n 169280: 356,\n 1120643: 357,\n 645088: 358,\n 5348: 359,\n 124296: 360,\n 1121398: 361,\n 950305: 362,\n 567018: 363,\n 52000: 364,\n 52003: 365,\n 52007: 366,\n 58540: 367,\n 436796: 368,\n 948846: 369,\n 8213: 370,\n 671293: 371,\n 1131550: 372,\n 899119: 373,\n 1105394: 374,\n 85452: 375,\n 1112686: 376,\n 69418: 377,\n 8224: 378,\n 145315: 379,\n 575077: 380,\n 20850: 381,\n 44017: 382,\n 1135125: 383,\n 286562: 384,\n 1123553: 385,\n 1135137: 386,\n 325314: 387,\n 662572: 388,\n 159897: 389,\n 1130856: 390,\n 96335: 391,\n 755082: 392,\n 1123576: 393,\n 1103979: 394,\n 593260: 395,\n 601567: 396,\n 1119140: 397,\n 189655: 398,\n 31769: 399,\n 1107567: 400,\n 88356: 401,\n 1033: 402,\n 1034: 403,\n 1106849: 404,\n 16470: 405,\n 35343: 406,\n 16471: 407,\n 1154074: 408,\n 16476: 409,\n 23774: 410,\n 16485: 411,\n 136665: 412,\n 94953: 413,\n 9708: 414,\n 38205: 415,\n 645897: 416,\n 216877: 417,\n 18619: 418,\n 559804: 419,\n 6898: 420,\n 166420: 421,\n 787016: 422,\n 73146: 423,\n 1136634: 424,\n 1111230: 425,\n 3218: 426,\n 3229: 427,\n 193347: 428,\n 84020: 429,\n 3231: 430,\n 52847: 431,\n 193352: 432,\n 193354: 433,\n 1110531: 434,\n 686532: 435,\n 711598: 436,\n 1063773: 437,\n 3243: 438,\n 78994: 439,\n 181782: 440,\n 284414: 441,\n 114189: 442,\n 686559: 443,\n 253971: 444,\n 1106103: 445,\n 1114125: 446,\n 75318: 447,\n 45599: 448,\n 97892: 449,\n 446271: 450,\n 1106112: 451,\n 280876: 452,\n 12182: 453,\n 175909: 454,\n 64484: 455,\n 6125: 456,\n 1120713: 457,\n 1114153: 458,\n 12197: 459,\n 248823: 460,\n 919885: 461,\n 94229: 462,\n 1120731: 463,\n 23069: 464,\n 6151: 465,\n 6155: 466,\n 23070: 467,\n 644448: 468,\n 1112723: 469,\n 31097: 470,\n 6169: 471,\n 1106172: 472,\n 6170: 473,\n 211875: 474,\n 1109017: 475,\n 5454: 476,\n 6184: 477,\n 10796: 478,\n 10798: 479,\n 1120777: 480,\n 86258: 481,\n 154134: 482,\n 6196: 483,\n 20920: 484,\n 20923: 485,\n 22386: 486,\n 1131639: 487,\n 77515: 488,\n 93555: 489,\n 17201: 490,\n 644494: 491,\n 17208: 492,\n 1125082: 493,\n 1131647: 494,\n 74698: 495,\n 13652: 496,\n 20942: 497,\n 390894: 498,\n 390896: 499,\n 1125092: 500,\n 13656: 501,\n 1116347: 502,\n 13658: 503,\n 114966: 504,\n 120013: 505,\n 1117089: 506,\n 57948: 507,\n 334153: 508,\n 160732: 509,\n 1154103: 510,\n 12946: 511,\n 1104787: 512,\n 17242: 513,\n 321861: 514,\n 189721: 515,\n 1119211: 516,\n 12960: 517,\n 95718: 518,\n 6910: 519,\n 180373: 520,\n 6917: 521,\n 358884: 522,\n 887: 523,\n 180399: 524,\n 358894: 525,\n 1154169: 526,\n 120084: 527,\n 1120019: 528,\n 1152711: 529,\n 1154176: 530,\n 424540: 531,\n 1118546: 532,\n 643003: 533,\n 112099: 534,\n 1104007: 535,\n 1120049: 536,\n 175256: 537,\n 45605: 538,\n 15889: 539,\n 35490: 540,\n 221302: 541,\n 562123: 542,\n 1104031: 543,\n 1129442: 544,\n 1129443: 545,\n 1137466: 546,\n 328370: 547,\n 1103315: 548,\n 12210: 549,\n 1104055: 550,\n 64519: 551,\n 114: 552,\n 1109873: 553,\n 128: 554,\n 12238: 555,\n 1112099: 556,\n 18774: 557,\n 18777: 558,\n 130: 559,\n 23116: 560,\n 948299: 561,\n 6209: 562,\n 197054: 563,\n 6210: 564,\n 6213: 565,\n 6214: 566,\n 6216: 567,\n 6217: 568,\n 2653: 569,\n 2658: 570,\n 753047: 571,\n 188318: 572,\n 74700: 573,\n 67415: 574,\n 6220: 575,\n 2665: 576,\n 28957: 577,\n 143323: 578,\n 340075: 579,\n 1949: 580,\n 1953: 581,\n 1955: 582,\n 1959: 583,\n 390922: 584,\n 22431: 585,\n 1113541: 586,\n 1132418: 587,\n 628500: 588,\n 648106: 589,\n 1104809: 590,\n 4804: 591,\n 648112: 592,\n 33301: 593,\n 33303: 594,\n 267824: 595,\n 1138970: 596,\n 13717: 597,\n 1131719: 598,\n 1120866: 599,\n 1106287: 600,\n 755217: 601,\n 647408: 602,\n 1116410: 603,\n 1132459: 604,\n 1105574: 605,\n 1133196: 606,\n 307336: 607,\n 906: 608,\n 1131745: 609,\n 1131748: 610,\n 910: 611,\n 943: 612,\n 31927: 613,\n 101261: 614,\n 101263: 615,\n 31932: 616,\n 779960: 617,\n 1135358: 618,\n 1154230: 619,\n 1135368: 620,\n 28227: 621,\n 32688: 622,\n 189856: 623,\n 27510: 624,\n 27514: 625,\n 1154276: 626,\n 27530: 627,\n 1152821: 628,\n 28265: 629,\n 103430: 630,\n 27543: 631,\n 39126: 632,\n 28278: 633,\n 39131: 634,\n 10169: 635,\n 28287: 636,\n 1129518: 637,\n 1272: 638,\n 194223: 639,\n 10177: 640,\n 18811: 641,\n 18812: 642,\n 73327: 643,\n 1117942: 644,\n 15984: 645,\n 202522: 646,\n 1152858: 647,\n 1152859: 648,\n 10183: 649,\n 81350: 650,\n 259126: 651,\n 13024: 652,\n 1120170: 653,\n 46452: 654,\n 26850: 655,\n 18832: 656,\n 18833: 657,\n 82098: 658,\n 103482: 659,\n 158614: 660,\n 46468: 661,\n 71904: 662,\n 80656: 663,\n 29708: 664,\n 1128839: 665,\n 1128846: 666,\n 12330: 667,\n 240321: 668,\n 1128853: 669,\n 219976: 670,\n 38480: 671,\n 12350: 672,\n 1104191: 673,\n 7022: 674,\n 63931: 675,\n 68224: 676,\n 1110768: 677,\n 384428: 678,\n 1107041: 679,\n 1114352: 680,\n 1107062: 681,\n 288: 682,\n 1107067: 683,\n 91581: 684,\n 39904: 685,\n 6334: 686,\n 123825: 687,\n 23258: 688,\n 66805: 689,\n 6346: 690,\n 55968: 691,\n 368431: 692,\n 179702: 693,\n 1140547: 694,\n 1114388: 695,\n 90888: 696,\n 510715: 697,\n 33412: 698,\n 188471: 699,\n 1152143: 700,\n 1120962: 701,\n 1125258: 702,\n 648232: 703,\n 143476: 704,\n 1152150: 705,\n 1117249: 706,\n 25413: 707,\n 1152162: 708,\n 241821: 709,\n 350362: 710,\n 1116530: 711,\n 61069: 712,\n 1110000: 713,\n 646809: 714,\n 1105698: 715,\n 1152194: 716,\n 198653: 717,\n 1116569: 718,\n 77758: 719,\n 854434: 720,\n 1128151: 721,\n 1123867: 722,\n 191404: 723,\n 1116594: 724,\n 126793: 725,\n 43639: 726,\n 44368: 727,\n 97390: 728,\n 87915: 729,\n 131117: 730,\n 8581: 731,\n 27606: 732,\n 1115886: 733,\n 184157: 734,\n 8594: 735,\n 1152904: 736,\n 1120211: 737,\n 28350: 738,\n 1152910: 739,\n 27627: 740,\n 649731: 741,\n 308920: 742,\n 289780: 743,\n 289781: 744,\n 19621: 745,\n 1129608: 746,\n 1365: 747,\n 103543: 748,\n 28387: 749,\n 28389: 750,\n 43698: 751,\n 54550: 752,\n 1129621: 753,\n 46536: 754,\n 1129629: 755,\n 294126: 756,\n 568857: 757,\n 447224: 758,\n 38537: 759,\n 1152975: 760,\n 34979: 761,\n 1104261: 762,\n 139865: 763,\n 56709: 764,\n 1128945: 765,\n 19697: 766,\n 107177: 767,\n 1131165: 768,\n 1128959: 769,\n 152219: 770,\n 184918: 771,\n 16008: 772,\n 1122425: 773,\n 928873: 774,\n 206259: 775,\n 714748: 776,\n 1131189: 777,\n 217115: 778,\n 560936: 779,\n 1131198: 780,\n 1128985: 781,\n 466170: 782,\n 429805: 783,\n 561674: 784,\n 654177: 785,\n 95225: 786,\n 37884: 787,\n 37888: 788,\n 1128997: 789,\n 545647: 790,\n 42207: 791,\n 42209: 792,\n 82920: 793,\n 128202: 794,\n 128203: 795,\n 1134056: 796,\n 1102873: 797,\n 42221: 798,\n 1107171: 799,\n 1133338: 800,\n 67633: 801,\n 375825: 802,\n 48781: 803,\n 75674: 804,\n 289088: 805,\n 1152244: 806,\n 13917: 807,\n 75695: 808,\n 34257: 809,\n 1117348: 810,\n 574710: 811,\n 34263: 812,\n 1128204: 813,\n 34266: 814,\n 1128208: 815,\n 1116629: 816,\n 110162: 817,\n 110163: 818,\n 110164: 819,\n 628751: 820,\n 708945: 821,\n 1123926: 822,\n 1152277: 823,\n 77826: 824,\n 77829: 825,\n 8617: 826,\n 242663: 827,\n 8619: 828,\n 628764: 829,\n 628766: 830,\n 1125393: 831,\n 66986: 832,\n 646913: 833,\n 578309: 834,\n 18251: 835,\n 1152290: 836,\n 954315: 837,\n 212107: 838,\n 578337: 839,\n 907845: 840,\n 1127530: 841,\n 1128267: 842,\n 28412: 843,\n 594387: 844,\n 1127541: 845,\n 44455: 846,\n 45188: 847,\n 45189: 848,\n 62607: 849,\n 1127551: 850,\n 1123991: 851,\n 1127558: 852,\n 105057: 853,\n 1128291: 854,\n 1127566: 855,\n 1154459: 856,\n 218682: 857,\n 28447: 858,\n 1153736: 859,\n 62634: 860,\n 211432: 861,\n 112378: 862,\n 1113035: 863,\n 1118848: 864,\n 137790: 865,\n 217984: 866,\n 949217: 867,\n 28473: 868,\n 1104300: 869,\n 1105033: 870,\n 11093: 871,\n 696342: 872,\n 696343: 873,\n 696346: 874,\n 28487: 875,\n 5038: 876,\n 195150: 877,\n 62676: 878,\n 13213: 879,\n 576973: 880,\n 35797: 881,\n 134128: 882,\n 166825: 883,\n 175576: 884,\n 509379: 885,\n 1113084: 886,\n 53942: 887,\n 642621: 888,\n 1131236: 889,\n 1112369: 890,\n 446610: 891,\n 644093: 892,\n 411092: 893,\n 642641: 894,\n 408885: 895,\n 1131258: 896,\n 1131267: 897,\n 13269: 898,\n 1104379: 899,\n 1114502: 900,\n 1107215: 901,\n 83725: 902,\n 84459: 903,\n 642681: 904,\n 445938: 905,\n 1103676: 906,\n 1130568: 907,\n 1153003: 908,\n 51045: 909,\n 12576: 910,\n 144330: 911,\n 105865: 912,\n 51052: 913,\n 746058: 914,\n 1153014: 915,\n 641976: 916,\n 561789: 917,\n 1130586: 918,\n 368605: 919,\n 1133428: 920,\n 1113828: 921,\n 129042: 922,\n 129045: 923,\n 6539: 924,\n 1153031: 925,\n 1122580: 926,\n 1132706: 927,\n 1152308: 928,\n 105899: 929,\n 50354: 930,\n 1121867: 931,\n 1113852: 932,\n 1153056: 933,\n 94641: 934,\n 1153065: 935,\n 1133469: 936,\n 35070: 937,\n 576257: 938,\n 368657: 939,\n 1129018: 940,\n 263069: 941,\n 1129027: 942,\n 1152358: 943,\n 1125467: 944,\n 1125469: 945,\n 72101: 946,\n 40922: 947,\n 1153097: 948,\n 1109439: 949,\n 423463: 950,\n 128383: 951,\n 683360: 952,\n 1129040: 953,\n 52515: 954,\n 41666: 955,\n 1128319: 956,\n 1152379: 957,\n 1136342: 958,\n 1125492: 959,\n 1108728: 960,\n 265203: 961,\n 628888: 962,\n 1127619: 963,\n 56112: 964,\n 56115: 965,\n 56119: 966,\n 89547: 967,\n 51831: 968,\n 91038: 969,\n 96847: 970,\n 521855: 971,\n 594483: 972,\n 1119623: 973,\n 96851: 974,\n 1136397: 975,\n 158172: 976,\n 1127657: 977,\n 131315: 978,\n 131318: 979,\n 289945: 980,\n 62718: 981,\n 229635: 982,\n 56167: 983,\n 1119654: 984,\n 51879: 985,\n 10435: 986,\n 137873: 987,\n 168332: 988,\n 330208: 989,\n 689152: 990,\n 1120444: 991,\n 1153877: 992,\n 111770: 993,\n 1153879: 994,\n 108047: 995,\n 1131300: 996,\n 362926: 997,\n 129896: 998,\n 129897: 999,\n ...}"
     },
     "execution_count": 151,
     "metadata": {},
     "output_type": "execute_result"
    }
   ],
   "source": [
    "#取出数据的第一列：论文的ID\n",
    "papers = paper_features_label[:, 0].astype(np.int32)\n",
    "#为论文重新编号，{31336: 0, 1061127: 1,……\n",
    "paper_id = {k: v for v, k in enumerate(papers)}\n",
    "paper_id"
   ],
   "metadata": {
    "collapsed": false,
    "ExecuteTime": {
     "end_time": "2024-01-16T07:18:40.916518100Z",
     "start_time": "2024-01-16T07:18:40.872295100Z"
    }
   }
  },
  {
   "cell_type": "code",
   "execution_count": 152,
   "outputs": [
    {
     "name": "stdout",
     "output_type": "stream",
     "text": [
      "(2708, 1433)\n"
     ]
    },
    {
     "data": {
      "text/plain": "matrix([[0., 0., 0., ..., 0., 0., 0.],\n        [0., 0., 0., ..., 0., 0., 0.],\n        [0., 0., 0., ..., 0., 0., 0.],\n        ...,\n        [0., 0., 0., ..., 0., 0., 0.],\n        [0., 0., 0., ..., 0., 0., 0.],\n        [0., 0., 0., ..., 0., 0., 0.]], dtype=float32)"
     },
     "execution_count": 152,
     "metadata": {},
     "output_type": "execute_result"
    }
   ],
   "source": [
    "#将数据中间部分的字标签取出，转化成(稀疏)矩阵\n",
    "features = csr_matrix(paper_features_label[:, 1:-1], dtype=np.float32)\n",
    "print(np.shape(features))\n",
    "# 将稀疏矩阵转化为稠密矩阵\n",
    "features.todense()"
   ],
   "metadata": {
    "collapsed": false,
    "ExecuteTime": {
     "end_time": "2024-01-16T07:18:41.806377600Z",
     "start_time": "2024-01-16T07:18:40.886605Z"
    }
   }
  },
  {
   "cell_type": "code",
   "execution_count": 153,
   "outputs": [
    {
     "name": "stdout",
     "output_type": "stream",
     "text": [
      "{'Case_Based': 0, 'Genetic_Algorithms': 1, 'Neural_Networks': 2, 'Probabilistic_Methods': 3, 'Reinforcement_Learning': 4, 'Rule_Learning': 5, 'Theory': 6} [2, 5, 4, 4, 3]\n"
     ]
    }
   ],
   "source": [
    "#将最后一项的论文分类属性取出，并转化为分类索引\n",
    "labels = paper_features_label[:, -1]\n",
    "lbl2idx = {k: v for v, k in enumerate(sorted(np.unique(labels)))}\n",
    "labels = [lbl2idx[e] for e in labels]\n",
    "print(lbl2idx, labels[:5])"
   ],
   "metadata": {
    "collapsed": false,
    "ExecuteTime": {
     "end_time": "2024-01-16T07:18:41.822288Z",
     "start_time": "2024-01-16T07:18:41.807377Z"
    }
   }
  },
  {
   "cell_type": "code",
   "execution_count": 154,
   "outputs": [
    {
     "name": "stdout",
     "output_type": "stream",
     "text": [
      "(5429, 2)\n"
     ]
    },
    {
     "data": {
      "text/plain": "array([[     35,    1033],\n       [     35,  103482],\n       [     35,  103515],\n       ...,\n       [ 853118, 1140289],\n       [ 853155,  853118],\n       [ 954315, 1155073]])"
     },
     "execution_count": 154,
     "metadata": {},
     "output_type": "execute_result"
    }
   ],
   "source": [
    "#读取论文关系数据，并将其转化为数组\n",
    "edges = np.genfromtxt(path / 'cora.cites', dtype=np.int32)\n",
    "print(np.shape(edges))\n",
    "edges"
   ],
   "metadata": {
    "collapsed": false,
    "ExecuteTime": {
     "end_time": "2024-01-16T07:18:41.881580500Z",
     "start_time": "2024-01-16T07:18:41.823385300Z"
    }
   }
  },
  {
   "cell_type": "code",
   "execution_count": 155,
   "outputs": [
    {
     "name": "stdout",
     "output_type": "stream",
     "text": [
      "(5429, 2)\n"
     ]
    },
    {
     "data": {
      "text/plain": "array([[ 163,  402],\n       [ 163,  659],\n       [ 163, 1696],\n       ...,\n       [1887, 2258],\n       [1902, 1887],\n       [ 837, 1686]])"
     },
     "execution_count": 155,
     "metadata": {},
     "output_type": "execute_result"
    }
   ],
   "source": [
    "#转化为新编号节点间的关系\n",
    "edges = np.asarray([paper_id[e] for e in edges.flatten()], np.int32).reshape(edges.shape)\n",
    "print(edges.shape)\n",
    "edges"
   ],
   "metadata": {
    "collapsed": false,
    "ExecuteTime": {
     "end_time": "2024-01-16T07:18:41.893008500Z",
     "start_time": "2024-01-16T07:18:41.838495400Z"
    }
   }
  },
  {
   "cell_type": "code",
   "execution_count": 156,
   "outputs": [
    {
     "data": {
      "text/plain": "matrix([[0., 0., 0., ..., 0., 0., 0.],\n        [0., 0., 0., ..., 0., 0., 0.],\n        [0., 0., 0., ..., 0., 0., 0.],\n        ...,\n        [0., 0., 0., ..., 0., 0., 0.],\n        [0., 0., 0., ..., 0., 0., 0.],\n        [0., 0., 0., ..., 0., 0., 0.]], dtype=float32)"
     },
     "execution_count": 156,
     "metadata": {},
     "output_type": "execute_result"
    }
   ],
   "source": [
    "# 计算邻接矩阵(Adjacency matrix), 行列都为论文个数.\n",
    "adj = coo_matrix((np.ones(edges.shape[0]), (edges[:, 0], edges[:, 1])),\n",
    "                 shape=(len(labels), len(labels)), dtype=np.float32)\n",
    "\n",
    "adj.todense()"
   ],
   "metadata": {
    "collapsed": false,
    "ExecuteTime": {
     "end_time": "2024-01-16T07:18:41.893008500Z",
     "start_time": "2024-01-16T07:18:41.853238Z"
    }
   }
  },
  {
   "cell_type": "code",
   "execution_count": 157,
   "outputs": [],
   "source": [
    "# 有向图邻接矩阵转化为无向图对称矩阵\n",
    "adj_long = adj.multiply(adj.T < adj)\n",
    "adj = adj_long + adj_long.T"
   ],
   "metadata": {
    "collapsed": false,
    "ExecuteTime": {
     "end_time": "2024-01-16T07:18:41.893008500Z",
     "start_time": "2024-01-16T07:18:41.881580500Z"
    }
   }
  },
  {
   "cell_type": "code",
   "execution_count": 158,
   "outputs": [],
   "source": [
    "def normalize(mx):  #定义函数，对矩阵数据进行归一化\n",
    "    '''Row-normalize sparse matrix'''\n",
    "    rowsum = np.array(mx.sum(1))  #每一篇论文的字数\n",
    "    r_inv = (rowsum ** -1).flatten()  #取总字数的倒数\n",
    "    r_inv[np.isinf(r_inv)] = 0.  #将Nan值设为0(防止某一行全为0, 即对应的rowsum为0, r_inv就为)\n",
    "    r_mat_inv = diags(r_inv)  #将总字数的倒数做成对角矩阵\n",
    "    mx = r_mat_inv.dot(mx)  #左乘一个矩阵，相当于每个元素除以总数\n",
    "    return mx\n",
    "\n",
    "\n",
    "#对 features矩阵进行归一化（每行的总和为1）\n",
    "features = normalize(features)\n",
    "\n",
    "# 对邻接矩阵对角线添加1，将其变为自循环图。同时再对其进行归一化\n",
    "adj = normalize(adj + eye(adj.shape[0]))"
   ],
   "metadata": {
    "collapsed": false,
    "ExecuteTime": {
     "end_time": "2024-01-16T07:18:41.943040300Z",
     "start_time": "2024-01-16T07:18:41.884124800Z"
    }
   }
  },
  {
   "cell_type": "code",
   "execution_count": 159,
   "outputs": [],
   "source": [
    "# Data as tensors\n",
    "adj = torch.FloatTensor(adj.todense())  #节点间的关系\n",
    "features = torch.FloatTensor(features.todense())  #节点自身的特征\n",
    "labels = torch.LongTensor(labels)  #每个节点的分类标签"
   ],
   "metadata": {
    "collapsed": false,
    "ExecuteTime": {
     "end_time": "2024-01-16T07:18:41.955784900Z",
     "start_time": "2024-01-16T07:18:41.914057600Z"
    }
   }
  },
  {
   "cell_type": "code",
   "execution_count": 160,
   "outputs": [
    {
     "data": {
      "text/plain": "2208"
     },
     "execution_count": 160,
     "metadata": {},
     "output_type": "execute_result"
    }
   ],
   "source": [
    "#划分数据集\n",
    "n_train = 200\n",
    "n_val = 300\n",
    "n_test = len(features) - n_train - n_val\n",
    "np.random.seed(34)\n",
    "idxs = np.random.permutation(len(features))  #将原有索引打乱顺序\n",
    "n_test"
   ],
   "metadata": {
    "collapsed": false,
    "ExecuteTime": {
     "end_time": "2024-01-16T07:18:41.960293800Z",
     "start_time": "2024-01-16T07:18:41.946864500Z"
    }
   }
  },
  {
   "cell_type": "code",
   "execution_count": 161,
   "outputs": [],
   "source": [
    "#计算每个数据集的索引\n",
    "idx_train = torch.LongTensor(idxs[:n_train])\n",
    "idx_val = torch.LongTensor(idxs[n_train:n_train + n_val])\n",
    "idx_test = torch.LongTensor(idxs[n_train + n_val:])"
   ],
   "metadata": {
    "collapsed": false,
    "ExecuteTime": {
     "end_time": "2024-01-16T07:18:42.004101300Z",
     "start_time": "2024-01-16T07:18:41.960293800Z"
    }
   }
  },
  {
   "cell_type": "code",
   "execution_count": 162,
   "outputs": [],
   "source": [
    "#分配运算资源，转到GPU上\n",
    "adj = adj.to(device)\n",
    "features = features.to(device)\n",
    "labels = labels.to(device)\n",
    "idx_train = idx_train.to(device)\n",
    "idx_val = idx_val.to(device)\n",
    "idx_test = idx_test.to(device)"
   ],
   "metadata": {
    "collapsed": false,
    "ExecuteTime": {
     "end_time": "2024-01-16T07:18:42.014560200Z",
     "start_time": "2024-01-16T07:18:41.976018600Z"
    }
   }
  },
  {
   "cell_type": "code",
   "execution_count": 163,
   "outputs": [],
   "source": [
    "class GraphConvolutionLayer(nn.Module):\n",
    "    \"\"\"\n",
    "    图卷积类——单层图卷积类\n",
    "    \"\"\"\n",
    "\n",
    "    def __init__(self, f_in: int, f_out: int, use_bias: bool = True, activation=None):\n",
    "        \"\"\"\n",
    "        类对象初始化函数\n",
    "        :param f_in: 输入样本特征数量\n",
    "        :param f_out: 输出样本特征数量\n",
    "        :param use_bias: 是否使用偏置\n",
    "        :param activation: 激活函数\n",
    "        \"\"\"\n",
    "        super().__init__()\n",
    "        self.f_in = f_in\n",
    "        self.f_out = f_out\n",
    "        self.use_bias = use_bias\n",
    "\n",
    "        # 权重与偏置参数的定义与初始化\n",
    "        self.weight = nn.Parameter(torch.FloatTensor(f_in, f_out))\n",
    "        self.bias = nn.Parameter(torch.FloatTensor(f_out)) if use_bias else None\n",
    "\n",
    "        # 定义激活函数(默认为Mish激活函数)\n",
    "        self.activation = (lambda x: x * (nn_fun.tanh(nn_fun.softplus(x)))) if activation else activation\n",
    "\n",
    "        # 学习参数初始化\n",
    "        self.initialize_weights()\n",
    "\n",
    "    def initialize_weights(self):\n",
    "        \"\"\"\n",
    "        参数初始化\n",
    "        \"\"\"\n",
    "        # 初始化权重参数\n",
    "        if self.activation:  # 如果使用激活函数\n",
    "            nn.init.xavier_uniform_(self.weight)\n",
    "        else:  # 如果不使用激活函数\n",
    "            nn.init.kaiming_uniform_(self.weight, nonlinearity='leaky_relu')\n",
    "\n",
    "        # 初始化偏置参数\n",
    "        if self.use_bias:  # 偏置项初始化\n",
    "            nn.init.zeros_(self.bias)\n",
    "\n",
    "    def forward(self, f_mat, adj_mat) -> torch.tensor:\n",
    "        \"\"\"\n",
    "        前向传播函数\n",
    "        :param f_mat: 输入特征矩阵，形状：n×feature_in\n",
    "        :param adj_mat: 样本关系邻接矩阵，形状：n×n, support\n",
    "        :return: 计算过程参考P285图9-14\n",
    "        \"\"\"\n",
    "        support = torch.mm(f_mat,\n",
    "                           self.weight)  # input: n×feature_in, self.weight: feature_in×feature_out, support: n×feature_out\n",
    "\n",
    "        # GCN与CNN唯一不同的地方——每一层都需要与邻接矩阵相乘\n",
    "        output = torch.mm(adj_mat, support)  # adj: n×n, support: n×feature_out, output: n×feature_out,\n",
    "\n",
    "        if self.use_bias:  # 如果有偏置项，则将输出进行与偏置进行广播运算\n",
    "            output.add_(self.bias)\n",
    "\n",
    "        if self.activation:  # 如果存在激活函数，则将输出传入激活函数\n",
    "            output = self.activation(output)\n",
    "        return output"
   ],
   "metadata": {
    "collapsed": false,
    "ExecuteTime": {
     "end_time": "2024-01-16T07:18:42.023028400Z",
     "start_time": "2024-01-16T07:18:42.008211600Z"
    }
   }
  },
  {
   "cell_type": "code",
   "execution_count": 164,
   "outputs": [],
   "source": [
    "class GCN(nn.Module):\n",
    "    \"\"\"\n",
    "    图卷积类——多层图卷积类\n",
    "    \"\"\"\n",
    "\n",
    "    def __init__(self, f_in: int, n_classes: int, hidden: list, dropout_p: float = 0.5):\n",
    "        \"\"\"\n",
    "        类对象初始化函数\n",
    "        :param f_in: 输入样本特征数量\n",
    "        :param n_classes: 卷积结束后，最后一层分类的数量\n",
    "        :param hidden: 中间隐藏层输出特征f_out数量\n",
    "        :param dropout_p: dropout参数\n",
    "        \"\"\"\n",
    "        super().__init__()\n",
    "        # 循环创建单层图神经网络层\n",
    "        self.layers = nn.Sequential()\n",
    "        for i, (f_in, f_out) in enumerate(zip([f_in] + hidden[:-1], hidden)):\n",
    "            self.layers.add_module(f'GCN Layer-{i}', GraphConvolutionLayer(f_in, f_out))\n",
    "\n",
    "        # Dropout层\n",
    "        self.layers.add_module(f'Dropout Layer', nn.Dropout(dropout_p))\n",
    "        # 最后输出层\n",
    "        self.layers.add_module(f'Output Layer', GraphConvolutionLayer(hidden[-1], n_classes))\n",
    "\n",
    "    def forward(self, f_mat, adj_mat):\n",
    "        \"\"\"\n",
    "        前向传播函数\n",
    "        :param f_mat: 输入特征矩阵，形状：n×feature_in\n",
    "        :param adj_mat: 样本关系邻接矩阵，形状：n×n, support\n",
    "        :return: 计算过程参考P285图9-14\n",
    "        \"\"\"\n",
    "        for layer in self.layers:\n",
    "            f_mat = layer(f_mat) if type(layer) == nn.Dropout else layer(f_mat, adj_mat)  # Dropout层只需要传入x\n",
    "\n",
    "        return f_mat"
   ],
   "metadata": {
    "collapsed": false,
    "ExecuteTime": {
     "end_time": "2024-01-16T07:18:42.041684Z",
     "start_time": "2024-01-16T07:18:42.020493600Z"
    }
   }
  },
  {
   "cell_type": "code",
   "execution_count": 165,
   "outputs": [
    {
     "name": "stdout",
     "output_type": "stream",
     "text": [
      "7 1433\n"
     ]
    }
   ],
   "source": [
    "n_labels = labels.max().item() + 1  #分类个数 7\n",
    "n_features = features.shape[1]  #节点个数 1433\n",
    "print(n_labels, n_features)"
   ],
   "metadata": {
    "collapsed": false,
    "ExecuteTime": {
     "end_time": "2024-01-16T07:18:42.084104200Z",
     "start_time": "2024-01-16T07:18:42.036207600Z"
    }
   }
  },
  {
   "cell_type": "code",
   "execution_count": 166,
   "outputs": [
    {
     "name": "stdout",
     "output_type": "stream",
     "text": [
      "+-------+-----------------------+--------------------------+------------------------+\n",
      "| Index |       Layer Name      |       Input Shape        |      Output Shape      |\n",
      "+-------+-----------------------+--------------------------+------------------------+\n",
      "|   0   | GraphConvolutionLayer | torch.Size([2708, 1433]) | torch.Size([2708, 16]) |\n",
      "|   1   | GraphConvolutionLayer |  torch.Size([2708, 16])  | torch.Size([2708, 32]) |\n",
      "|   2   | GraphConvolutionLayer |  torch.Size([2708, 32])  | torch.Size([2708, 16]) |\n",
      "|   3   |        Dropout        |  torch.Size([2708, 16])  | torch.Size([2708, 16]) |\n",
      "|   4   | GraphConvolutionLayer |  torch.Size([2708, 16])  | torch.Size([2708, 7])  |\n",
      "+-------+-----------------------+--------------------------+------------------------+\n"
     ]
    }
   ],
   "source": [
    "model = GCN(n_features, n_labels, hidden=[16, 32, 16]).to(device)\n",
    "\n",
    "# 测试图神经网络\n",
    "demo_features, demo_adj = torch.ones_like(features).to(device), torch.ones_like(adj).to(device)\n",
    "\n",
    "# 创建一个 PrettyTable 对象\n",
    "table = PrettyTable()\n",
    "table.field_names = ['Index', \"Layer Name\", \"Input Shape\", \"Output Shape\"]  #  设置表头\n",
    "\n",
    "for i, layer in enumerate(model.layers):\n",
    "    input_shape = demo_features.shape\n",
    "    demo_features = layer(demo_features) if type(layer) == nn.Dropout else layer(demo_features, demo_adj)\n",
    "    table.add_row([i, layer.__class__.__name__, input_shape, demo_features.shape])\n",
    "\n",
    "# 打印表格\n",
    "print(table)"
   ],
   "metadata": {
    "collapsed": false,
    "ExecuteTime": {
     "end_time": "2024-01-16T07:18:42.111856600Z",
     "start_time": "2024-01-16T07:18:42.051063600Z"
    }
   }
  },
  {
   "cell_type": "code",
   "execution_count": 167,
   "outputs": [],
   "source": [
    "# 导入Ranger优化器\n",
    "from ranger import *\n",
    "\n",
    "# 创建一个多层GCN网络并将其转移到GPU上\n",
    "model = GCN(n_features, n_labels, hidden=[16, 32, 16]).to(device)\n",
    "\n",
    "# 创建优化器\n",
    "optimizer = Ranger(model.parameters())\n",
    "\n",
    "# 计算准确度函数：返回本轮计算所有预测结果的平均准确度\n",
    "get_acc = lambda output, y: (output.argmax(1) == y).type(\n",
    "    torch.float32).mean().item()  # output.argmax(1)与y都是一个长度为2708的一维张量.\n",
    "\n",
    "\n",
    "def train():\n",
    "    \"\"\"\n",
    "    训练函数\n",
    "    :return: 返回损失与精确度\n",
    "    \"\"\"\n",
    "    model.train()  # 告诉模型：即将开始训练\n",
    "    optimizer.zero_grad()  # 梯度归零\n",
    "    output = model(features, adj)  # 训练并返回结果\n",
    "    loss = nn_fun.cross_entropy(output[idx_train], labels[idx_train])  # 计算交叉熵损失函数\n",
    "    acc = get_acc(output[idx_train], labels[idx_train])  # 计算精准度\n",
    "    loss.backward()  # 损失反向传播\n",
    "    optimizer.step()  # 优化器执行\n",
    "    return loss.item(), acc  # 返回训练损失和精确度\n",
    "\n",
    "\n",
    "def evaluate(idx):\n",
    "    \"\"\"\n",
    "    测试函数\n",
    "    :param idx: 需要进行预测的数据行indices\n",
    "    :return: 返回损失与精确度\n",
    "    \"\"\"\n",
    "    model.eval()  # 告诉模型：开启测试模型（不需要使用Dropout层）\n",
    "    output = model(features, adj)\n",
    "    loss = nn_fun.cross_entropy(output[idx], labels[idx]).item()  # 计算交叉熵损失\n",
    "    return loss, get_acc(output[idx], labels[idx])"
   ],
   "metadata": {
    "collapsed": false,
    "ExecuteTime": {
     "end_time": "2024-01-16T07:18:42.111966300Z",
     "start_time": "2024-01-16T07:18:42.067046400Z"
    }
   }
  },
  {
   "cell_type": "code",
   "execution_count": 168,
   "outputs": [
    {
     "name": "stdout",
     "output_type": "stream",
     "text": [
      "\u001B[35m15:18:42\u001B[0m - \u001B[39m[   1/1000]: train_loss=1.9640, train_acc=0.1350, val_loss=1.9567, val_acc=0.1733\u001B[0m\n",
      "\u001B[35m15:18:42\u001B[0m - \u001B[39m[  50/1000]: train_loss=1.9328, train_acc=0.1400, val_loss=1.9327, val_acc=0.2233\u001B[0m\n",
      "\u001B[35m15:18:42\u001B[0m - \u001B[39m[ 100/1000]: train_loss=1.9045, train_acc=0.2100, val_loss=1.8893, val_acc=0.2967\u001B[0m\n",
      "\u001B[35m15:18:42\u001B[0m - \u001B[39m[ 150/1000]: train_loss=1.8189, train_acc=0.3350, val_loss=1.8473, val_acc=0.4133\u001B[0m\n",
      "\u001B[35m15:18:42\u001B[0m - \u001B[39m[ 200/1000]: train_loss=1.7749, train_acc=0.3950, val_loss=1.7984, val_acc=0.4400\u001B[0m\n",
      "\u001B[35m15:18:42\u001B[0m - \u001B[39m[ 250/1000]: train_loss=1.6985, train_acc=0.4050, val_loss=1.7404, val_acc=0.4600\u001B[0m\n",
      "\u001B[35m15:18:42\u001B[0m - \u001B[39m[ 300/1000]: train_loss=1.6474, train_acc=0.4250, val_loss=1.6801, val_acc=0.4800\u001B[0m\n",
      "\u001B[35m15:18:42\u001B[0m - \u001B[39m[ 350/1000]: train_loss=1.5227, train_acc=0.5300, val_loss=1.5979, val_acc=0.5100\u001B[0m\n",
      "\u001B[35m15:18:42\u001B[0m - \u001B[39m[ 400/1000]: train_loss=1.4093, train_acc=0.6000, val_loss=1.4908, val_acc=0.5533\u001B[0m\n",
      "\u001B[35m15:18:42\u001B[0m - \u001B[39m[ 450/1000]: train_loss=1.2526, train_acc=0.6900, val_loss=1.3892, val_acc=0.6400\u001B[0m\n",
      "\u001B[35m15:18:42\u001B[0m - \u001B[39m[ 500/1000]: train_loss=1.0564, train_acc=0.7450, val_loss=1.2599, val_acc=0.6767\u001B[0m\n",
      "\u001B[35m15:18:42\u001B[0m - \u001B[39m[ 550/1000]: train_loss=0.8945, train_acc=0.8150, val_loss=1.1355, val_acc=0.7133\u001B[0m\n",
      "\u001B[35m15:18:42\u001B[0m - \u001B[39m[ 600/1000]: train_loss=0.7685, train_acc=0.8550, val_loss=1.0364, val_acc=0.7433\u001B[0m\n",
      "\u001B[35m15:18:42\u001B[0m - \u001B[39m[ 650/1000]: train_loss=0.6511, train_acc=0.8800, val_loss=0.9467, val_acc=0.7567\u001B[0m\n",
      "\u001B[35m15:18:43\u001B[0m - \u001B[39m[ 700/1000]: train_loss=0.5130, train_acc=0.9000, val_loss=0.8843, val_acc=0.7733\u001B[0m\n",
      "\u001B[35m15:18:43\u001B[0m - \u001B[39m[ 750/1000]: train_loss=0.4147, train_acc=0.9500, val_loss=0.8437, val_acc=0.7800\u001B[0m\n",
      "\u001B[35m15:18:43\u001B[0m - \u001B[39m[ 800/1000]: train_loss=0.3673, train_acc=0.9500, val_loss=0.8133, val_acc=0.7867\u001B[0m\n",
      "\u001B[35m15:18:43\u001B[0m - \u001B[39m[ 850/1000]: train_loss=0.3011, train_acc=0.9500, val_loss=0.7916, val_acc=0.7833\u001B[0m\n",
      "\u001B[35m15:18:43\u001B[0m - \u001B[39m[ 900/1000]: train_loss=0.2529, train_acc=0.9550, val_loss=0.7883, val_acc=0.7733\u001B[0m\n",
      "\u001B[35m15:18:43\u001B[0m - \u001B[39m[ 950/1000]: train_loss=0.2222, train_acc=0.9700, val_loss=0.7901, val_acc=0.7767\u001B[0m\n",
      "\u001B[35m15:18:43\u001B[0m - \u001B[39m[1000/1000]: train_loss=0.1931, train_acc=0.9700, val_loss=0.7868, val_acc=0.7800\u001B[0m\n",
      "\u001B[35m15:18:43\u001B[0m - \u001B[32mSUCCESS\u001B[0m - \u001B[39mTrain     : loss=0.1403, accuracy=0.9750\u001B[0m\n",
      "\u001B[35m15:18:43\u001B[0m - \u001B[32mSUCCESS\u001B[0m - \u001B[39mTest      : loss=0.8819, accuracy=0.7360\u001B[0m\n",
      "\u001B[35m15:18:43\u001B[0m - \u001B[32mSUCCESS\u001B[0m - \u001B[39mValidation: loss=0.7868, accuracy=0.7800\u001B[0m\n"
     ]
    }
   ],
   "source": [
    "#训练模型\n",
    "epochs = 1000\n",
    "print_steps = 50\n",
    "train_loss, train_acc = [], []\n",
    "val_loss, val_acc = [], []\n",
    "\n",
    "for i in range(epochs):\n",
    "    tl, ta = train()\n",
    "    train_loss.append(tl), train_acc.append(ta)\n",
    "    if (i + 1) % print_steps == 0 or i == 0:\n",
    "        # tl, ta = evaluate(idx_train)\n",
    "        vl, va = evaluate(idx_val)\n",
    "        val_loss.append(vl), val_acc.append(va)\n",
    "\n",
    "        hues.log(f'[{i + 1:4d}/{epochs}]: train_loss={tl:.4f}, train_acc={ta:.4f}' +\n",
    "                 f', val_loss={vl:.4f}, val_acc={va:.4f}')\n",
    "#输出最终结果\n",
    "final_train, final_val, final_test = evaluate(idx_train), evaluate(idx_val), evaluate(idx_test)\n",
    "hues.success(f'Train     : loss={final_train[0]:.4f}, accuracy={final_train[1]:.4f}')\n",
    "hues.success(f'Test      : loss={final_test[0]:.4f}, accuracy={final_test[1]:.4f}')\n",
    "hues.success(f'Validation: loss={final_val[0]:.4f}, accuracy={final_val[1]:.4f}')"
   ],
   "metadata": {
    "collapsed": false,
    "ExecuteTime": {
     "end_time": "2024-01-16T07:18:43.404998600Z",
     "start_time": "2024-01-16T07:18:42.082039500Z"
    }
   }
  },
  {
   "cell_type": "code",
   "execution_count": 169,
   "outputs": [
    {
     "data": {
      "text/plain": "<matplotlib.legend.Legend at 0x1ca57cad880>"
     },
     "execution_count": 169,
     "metadata": {},
     "output_type": "execute_result"
    },
    {
     "data": {
      "text/plain": "<Figure size 1500x500 with 2 Axes>",
      "image/png": "[encoded data removed]"
     },
     "metadata": {},
     "output_type": "display_data"
    }
   ],
   "source": [
    "#可视化训练过程\n",
    "plt.rcParams.update({\n",
    "    'font.size': 15,\n",
    "    'font.family': ['Times New Roman', 'SimSun']\n",
    "})\n",
    "\n",
    "fig, axes = plt.subplots(1, 2, figsize=(15, 5))\n",
    "ax = axes[0]\n",
    "axes[0].plot(train_loss[::print_steps] + [train_loss[-1]], label='Train')\n",
    "axes[0].plot(val_loss, label='Validation')\n",
    "axes[1].plot(train_acc[::print_steps] + [train_acc[-1]], label='Train')\n",
    "axes[1].plot(val_acc, label='Validation')\n",
    "\n",
    "from matplotlib.ticker import FuncFormatter\n",
    "\n",
    "plt.gca().yaxis.set_major_formatter(FuncFormatter(lambda temp, _: '%1.0f' % (100 * temp) + '%'))\n",
    "\n",
    "for ax, t in zip(axes, ['Loss', 'Accuracy']): ax.set_title(t, size=15), ax.set_xlabel('Epochs')\n",
    "\n",
    "axes[0].set_ylabel('Value')\n",
    "axes[1].set_ylabel('Accuracy(%)')\n",
    "\n",
    "lines, texts = fig.axes[-1].get_legend_handles_labels()\n",
    "fig.legend(lines, texts, ncol=2, loc='lower center', bbox_to_anchor=(0.5, -.1), markerscale=2)"
   ],
   "metadata": {
    "collapsed": false,
    "ExecuteTime": {
     "end_time": "2024-01-16T07:18:43.543966Z",
     "start_time": "2024-01-16T07:18:43.406766400Z"
    }
   }
  },
  {
   "cell_type": "code",
   "execution_count": 174,
   "outputs": [
    {
     "data": {
      "text/plain": "                     Real                    Pred\n0              Case_Based              Case_Based\n1         Neural_Networks         Neural_Networks\n2         Neural_Networks         Neural_Networks\n3              Case_Based         Neural_Networks\n4   Probabilistic_Methods   Probabilistic_Methods\n5                  Theory                  Theory\n6                  Theory                  Theory\n7                  Theory   Probabilistic_Methods\n8         Neural_Networks         Neural_Networks\n9  Reinforcement_Learning  Reinforcement_Learning",
      "text/html": "<div>\n<style scoped>\n    .dataframe tbody tr th:only-of-type {\n        vertical-align: middle;\n    }\n\n    .dataframe tbody tr th {\n        vertical-align: top;\n    }\n\n    .dataframe thead th {\n        text-align: right;\n    }\n</style>\n<table border=\"1\" class=\"dataframe\">\n  <thead>\n    <tr style=\"text-align: right;\">\n      <th></th>\n      <th>Real</th>\n      <th>Pred</th>\n    </tr>\n  </thead>\n  <tbody>\n    <tr>\n      <th>0</th>\n      <td>Case_Based</td>\n      <td>Case_Based</td>\n    </tr>\n    <tr>\n      <th>1</th>\n      <td>Neural_Networks</td>\n      <td>Neural_Networks</td>\n    </tr>\n    <tr>\n      <th>2</th>\n      <td>Neural_Networks</td>\n      <td>Neural_Networks</td>\n    </tr>\n    <tr>\n      <th>3</th>\n      <td>Case_Based</td>\n      <td>Neural_Networks</td>\n    </tr>\n    <tr>\n      <th>4</th>\n      <td>Probabilistic_Methods</td>\n      <td>Probabilistic_Methods</td>\n    </tr>\n    <tr>\n      <th>5</th>\n      <td>Theory</td>\n      <td>Theory</td>\n    </tr>\n    <tr>\n      <th>6</th>\n      <td>Theory</td>\n      <td>Theory</td>\n    </tr>\n    <tr>\n      <th>7</th>\n      <td>Theory</td>\n      <td>Probabilistic_Methods</td>\n    </tr>\n    <tr>\n      <th>8</th>\n      <td>Neural_Networks</td>\n      <td>Neural_Networks</td>\n    </tr>\n    <tr>\n      <th>9</th>\n      <td>Reinforcement_Learning</td>\n      <td>Reinforcement_Learning</td>\n    </tr>\n  </tbody>\n</table>\n</div>"
     },
     "execution_count": 174,
     "metadata": {},
     "output_type": "execute_result"
    }
   ],
   "source": [
    "#输出模型预测结果\n",
    "output = model(features, adj)\n",
    "\n",
    "samples = 10\n",
    "idx_sample = idx_test[torch.randperm(len(idx_test))[:samples]]\n",
    "\n",
    "idx2lbl = {v: k for k, v in lbl2idx.items()}\n",
    "df = pd.DataFrame({'Real': [idx2lbl[e] for e in labels[idx_sample].tolist()],\n",
    "                   'Pred': [idx2lbl[e] for e in output[idx_sample].argmax(1).tolist()]})\n",
    "df"
   ],
   "metadata": {
    "collapsed": false,
    "ExecuteTime": {
     "end_time": "2024-01-16T07:20:21.725784400Z",
     "start_time": "2024-01-16T07:20:21.703969800Z"
    }
   }
  }
 ],
 "metadata": {
  "kernelspec": {
   "display_name": "Python 3",
   "language": "python",
   "name": "python3"
  },
  "language_info": {
   "codemirror_mode": {
    "name": "ipython",
    "version": 2
   },
   "file_extension": ".py",
   "mimetype": "text/x-python",
   "name": "python",
   "nbconvert_exporter": "python",
   "pygments_lexer": "ipython2",
   "version": "2.7.6"
  }
 },
 "nbformat": 4,
 "nbformat_minor": 0
}
