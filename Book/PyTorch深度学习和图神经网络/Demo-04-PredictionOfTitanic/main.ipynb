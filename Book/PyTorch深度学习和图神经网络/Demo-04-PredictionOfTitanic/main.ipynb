{
 "cells": [
  {
   "cell_type": "code",
   "execution_count": 86,
   "metadata": {
    "collapsed": true,
    "ExecuteTime": {
     "end_time": "2023-09-27T04:35:21.731956600Z",
     "start_time": "2023-09-27T04:35:21.716360200Z"
    }
   },
   "outputs": [],
   "source": [
    "import numpy as np\n",
    "\n",
    "import torch\n",
    "import torch.nn as nn\n",
    "import torch.nn.functional as nn_fun\n",
    "import os\n",
    "from scipy import stats\n",
    "import pandas as pd\n",
    "import matplotlib.pyplot as plt"
   ]
  },
  {
   "cell_type": "code",
   "execution_count": 87,
   "outputs": [
    {
     "name": "stdout",
     "output_type": "stream",
     "text": [
      "Index(['pclass', 'survived', 'name', 'sex', 'age', 'sibsp', 'parch', 'ticket',\n",
      "       'fare', 'cabin', 'embarked', 'boat', 'body', 'home.dest'],\n",
      "      dtype='object')\n"
     ]
    }
   ],
   "source": [
    "titanic_data = pd.read_csv('../BookCode/pytorch-GNN-1st-main/pytorch-GNN-1st-main/data/05/05/titanic3.csv')\n",
    "print(titanic_data.columns)"
   ],
   "metadata": {
    "collapsed": false,
    "ExecuteTime": {
     "end_time": "2023-09-27T04:35:21.755965800Z",
     "start_time": "2023-09-27T04:35:21.725975500Z"
    }
   }
  },
  {
   "cell_type": "code",
   "execution_count": 88,
   "outputs": [
    {
     "name": "stdout",
     "output_type": "stream",
     "text": [
      "Index(['pclass', 'survived', 'name', 'sex', 'age', 'sibsp', 'parch', 'ticket',\n",
      "       'fare', 'cabin', 'embarked', 'boat', 'body', 'home.dest', 'female',\n",
      "       'male', 'embark_C', 'embark_Q', 'embark_S', 'class_1', 'class_2',\n",
      "       'class_3'],\n",
      "      dtype='object')\n"
     ]
    }
   ],
   "source": [
    "#用哑变量将指定字段转成one-hot\n",
    "titanic_data = pd.concat([titanic_data,\n",
    "                          pd.get_dummies(titanic_data['sex']),\n",
    "                          pd.get_dummies(titanic_data['embarked'], prefix=\"embark\"),\n",
    "                          pd.get_dummies(titanic_data['pclass'], prefix=\"class\")], axis=1)\n",
    "\n",
    "print(titanic_data.columns)"
   ],
   "metadata": {
    "collapsed": false,
    "ExecuteTime": {
     "end_time": "2023-09-27T04:35:21.756963200Z",
     "start_time": "2023-09-27T04:35:21.740925500Z"
    }
   }
  },
  {
   "cell_type": "code",
   "execution_count": 89,
   "outputs": [],
   "source": [
    "#处理None值\n",
    "titanic_data[\"age\"] = titanic_data[\"age\"].fillna(titanic_data[\"age\"].mean())\n",
    "titanic_data[\"fare\"] = titanic_data[\"fare\"].fillna(titanic_data[\"fare\"].mean())  #乘客票价"
   ],
   "metadata": {
    "collapsed": false,
    "ExecuteTime": {
     "end_time": "2023-09-27T04:35:21.772058100Z",
     "start_time": "2023-09-27T04:35:21.756963200Z"
    }
   }
  },
  {
   "cell_type": "code",
   "execution_count": 90,
   "outputs": [
    {
     "name": "stdout",
     "output_type": "stream",
     "text": [
      "Index(['survived', 'age', 'sibsp', 'parch', 'fare', 'female', 'male',\n",
      "       'embark_C', 'embark_Q', 'embark_S', 'class_1', 'class_2', 'class_3'],\n",
      "      dtype='object')\n"
     ]
    }
   ],
   "source": [
    "#删去无用的列\n",
    "titanic_data = titanic_data.drop(['name', 'ticket', 'cabin', 'boat', 'body', 'home.dest', 'sex', 'embarked', 'pclass'],\n",
    "                                 axis=1)\n",
    "print(titanic_data.columns)"
   ],
   "metadata": {
    "collapsed": false,
    "ExecuteTime": {
     "end_time": "2023-09-27T04:35:21.802465200Z",
     "start_time": "2023-09-27T04:35:21.773054700Z"
    }
   }
  },
  {
   "cell_type": "code",
   "execution_count": 91,
   "outputs": [],
   "source": [
    "titanic_data = titanic_data.astype(np.float_)"
   ],
   "metadata": {
    "collapsed": false,
    "ExecuteTime": {
     "end_time": "2023-09-27T04:35:21.822378100Z",
     "start_time": "2023-09-27T04:35:21.788511100Z"
    }
   }
  },
  {
   "cell_type": "code",
   "execution_count": 92,
   "outputs": [
    {
     "data": {
      "text/plain": "((1309, 12), (1309,))"
     },
     "execution_count": 92,
     "metadata": {},
     "output_type": "execute_result"
    }
   ],
   "source": [
    "#分离样本和标签\n",
    "labels = titanic_data[\"survived\"].to_numpy()\n",
    "data = titanic_data.drop(['survived'], axis=1).to_numpy()\n",
    "\n",
    "data.shape, labels.shape"
   ],
   "metadata": {
    "collapsed": false,
    "ExecuteTime": {
     "end_time": "2023-09-27T04:35:21.823374800Z",
     "start_time": "2023-09-27T04:35:21.803929800Z"
    }
   }
  },
  {
   "cell_type": "code",
   "execution_count": 93,
   "outputs": [],
   "source": [
    "#样本的属性名称\n",
    "feature_names = list(titanic_data.columns)"
   ],
   "metadata": {
    "collapsed": false,
    "ExecuteTime": {
     "end_time": "2023-09-27T04:35:21.850000300Z",
     "start_time": "2023-09-27T04:35:21.820384800Z"
    }
   }
  },
  {
   "cell_type": "code",
   "execution_count": 94,
   "outputs": [
    {
     "data": {
      "text/plain": "((916,), (916, 12), (916,), (393, 12))"
     },
     "execution_count": 94,
     "metadata": {},
     "output_type": "execute_result"
    }
   ],
   "source": [
    "#将样本分为训练和测试两部分\n",
    "np.random.seed(10)  #设置种子，保证每次运行所分的样本一致\n",
    "train_indices = np.random.choice(len(labels), int(0.7 * len(labels)), replace=False)\n",
    "test_indices = list(set(range(len(labels))) - set(train_indices))\n",
    "train_features = data[train_indices]\n",
    "train_labels = labels[train_indices]\n",
    "test_features = data[test_indices]\n",
    "test_labels = labels[test_indices]\n",
    "train_labels.shape, train_features.shape, train_labels.shape, test_features.shape"
   ],
   "metadata": {
    "collapsed": false,
    "ExecuteTime": {
     "end_time": "2023-09-27T04:35:21.871693800Z",
     "start_time": "2023-09-27T04:35:21.836536600Z"
    }
   }
  },
  {
   "cell_type": "code",
   "execution_count": 95,
   "outputs": [],
   "source": [
    "class Mish(nn.Module):  #Mish激活函数\n",
    "    def __init__(self):\n",
    "        super().__init__()\n",
    "        print(\"Mish activation loaded...\")\n",
    "\n",
    "    def forward(self, x):\n",
    "        x = x * (torch.tanh(nn_fun.softplus(x)))\n",
    "        return x\n",
    "\n",
    "\n",
    "torch.manual_seed(0)  #设置随机种子\n",
    "\n",
    "\n",
    "class LinearClassification(nn.Module):\n",
    "    def __init__(self):\n",
    "        super().__init__()\n",
    "        self.layers = nn.Sequential(\n",
    "            nn.Linear(12, 12), Mish(),\n",
    "            nn.Linear(12, 8), Mish(),\n",
    "            nn.Linear(8, 2), nn.Softmax(dim=1)\n",
    "        )\n",
    "\n",
    "    def forward(self, x):\n",
    "        \"\"\"\n",
    "        前向传播函数\n",
    "        :param x: 输入特征矩阵\n",
    "        :return:\n",
    "        \"\"\"\n",
    "        return self.layers(x)\n",
    "\n",
    "    def get_loss(self, x, y):\n",
    "        y_pred = self.forward(x)\n",
    "        return nn_fun.cross_entropy(y_pred, y.long())"
   ],
   "metadata": {
    "collapsed": false,
    "ExecuteTime": {
     "end_time": "2023-09-27T04:35:21.871693800Z",
     "start_time": "2023-09-27T04:35:21.853221200Z"
    }
   }
  },
  {
   "cell_type": "code",
   "execution_count": 96,
   "outputs": [
    {
     "name": "stdout",
     "output_type": "stream",
     "text": [
      "cuda\n"
     ]
    }
   ],
   "source": [
    "#输出运算资源请况\n",
    "device = torch.device('cuda') if torch.cuda.is_available() else torch.device('cpu')\n",
    "print(device)"
   ],
   "metadata": {
    "collapsed": false,
    "ExecuteTime": {
     "end_time": "2023-09-27T04:35:21.897726700Z",
     "start_time": "2023-09-27T04:35:21.868191900Z"
    }
   }
  },
  {
   "cell_type": "code",
   "execution_count": 97,
   "outputs": [
    {
     "name": "stdout",
     "output_type": "stream",
     "text": [
      "Mish activation loaded...\n",
      "Mish activation loaded...\n",
      "Epoch 1/500 => Loss: 0.72\n",
      "Epoch 21/500 => Loss: 0.55\n",
      "Epoch 41/500 => Loss: 0.52\n",
      "Epoch 61/500 => Loss: 0.49\n",
      "Epoch 81/500 => Loss: 0.49\n",
      "Epoch 101/500 => Loss: 0.48\n",
      "Epoch 121/500 => Loss: 0.51\n",
      "Epoch 141/500 => Loss: 0.48\n",
      "Epoch 161/500 => Loss: 0.48\n",
      "Epoch 181/500 => Loss: 0.47\n",
      "Epoch 201/500 => Loss: 0.47\n",
      "Epoch 221/500 => Loss: 0.49\n",
      "Epoch 241/500 => Loss: 0.47\n",
      "Epoch 261/500 => Loss: 0.47\n",
      "Epoch 281/500 => Loss: 0.47\n",
      "Epoch 301/500 => Loss: 0.47\n",
      "Epoch 321/500 => Loss: 0.47\n",
      "Epoch 341/500 => Loss: 0.47\n",
      "Epoch 361/500 => Loss: 0.47\n",
      "Epoch 381/500 => Loss: 0.48\n",
      "Epoch 401/500 => Loss: 0.47\n",
      "Epoch 421/500 => Loss: 0.47\n",
      "Epoch 441/500 => Loss: 0.47\n",
      "Epoch 461/500 => Loss: 0.47\n",
      "Epoch 481/500 => Loss: 0.47\n"
     ]
    }
   ],
   "source": [
    "net = LinearClassification().to(device)\n",
    "\n",
    "num_epochs = 2000\n",
    "\n",
    "optimizer = torch.optim.Adam(net.parameters(), lr=0.04)\n",
    "\n",
    "input_tensor = torch.from_numpy(train_features).type(torch.FloatTensor).to(device)\n",
    "label_tensor = torch.from_numpy(train_labels).to(device)\n",
    "\n",
    "losses = []  #定义列表，用于接收每一步的损失值\n",
    "for epoch in range(num_epochs):\n",
    "    loss = net.get_loss(input_tensor, label_tensor)\n",
    "    losses.append(loss.item())\n",
    "    optimizer.zero_grad()  #清空之前的梯度\n",
    "    loss.backward()  #反向传播损失值\n",
    "    optimizer.step()  #更新参数\n",
    "    if epoch % 20 == 0:\n",
    "        print('Epoch {}/{} => Loss: {:.2f}'.format(epoch + 1, num_epochs, loss.item()))\n",
    "\n",
    "os.makedirs('models', exist_ok=True)\n",
    "torch.save(net.state_dict(), 'models/titanic_model.pt')\n",
    "\n",
    "\n",
    "def moving_average(a, w=10):  #定义函数计算移动平均损失值\n",
    "    if len(a) < w:\n",
    "        return a[:]\n",
    "    return [val if idx < w else sum(a[(idx - w):idx]) / w for idx, val in enumerate(a)]\n",
    "\n",
    "\n",
    "def plot_losses(losses):\n",
    "    avgloss = moving_average(losses)  #获得损失值的移动平均值\n",
    "    plt.figure(1)\n",
    "    plt.subplot(211)\n",
    "    plt.plot(range(len(avgloss)), avgloss, 'b--')\n",
    "    plt.xlabel('step number')\n",
    "    plt.ylabel('Training loss')\n",
    "    plt.title('step number vs. Training loss')\n",
    "    plt.show()\n",
    "\n",
    "\n",
    "plot_losses(losses)"
   ],
   "metadata": {
    "collapsed": false,
    "ExecuteTime": {
     "end_time": "2023-09-27T04:35:22.365607100Z",
     "start_time": "2023-09-27T04:35:21.884652400Z"
    }
   }
  },
  {
   "cell_type": "code",
   "execution_count": 98,
   "outputs": [
    {
     "data": {
      "text/plain": "<Figure size 1000x500 with 1 Axes>",
      "image/png": "[encoded data removed]"
     },
     "metadata": {},
     "output_type": "display_data"
    }
   ],
   "source": [
    "#输出训练结果\n",
    "out_probs = net(input_tensor).cpu().detach().numpy()\n",
    "out_classes = np.argmax(out_probs, axis=1)\n",
    "print(\"Train Accuracy:\", sum(out_classes == train_labels) / len(train_labels))\n",
    "\n",
    "#测试模型\n",
    "test_input_tensor = torch.from_numpy(test_features).type(torch.FloatTensor).to(device)  # Numpy转化为Tensor，然后再转移到GPU\n",
    "out_probs = net(test_input_tensor).cpu().detach().numpy()  # 在GPU完成的运算结果要先转回到CPU才能到Numpy\n",
    "out_classes = np.argmax(out_probs, axis=1)\n",
    "print(\"Test Accuracy:\", sum(out_classes == test_labels) / len(test_labels))"
   ],
   "metadata": {
    "collapsed": false,
    "ExecuteTime": {
     "end_time": "2023-09-27T04:35:22.428401900Z",
     "start_time": "2023-09-27T04:35:22.367600100Z"
    }
   }
  },
  {
   "cell_type": "code",
   "execution_count": 99,
   "outputs": [
    {
     "name": "stdout",
     "output_type": "stream",
     "text": [
      "Train Accuracy: 0.8449781659388647\n",
      "Test Accuracy: 0.8040712468193384\n"
     ]
    }
   ],
   "source": [],
   "metadata": {
    "collapsed": false,
    "ExecuteTime": {
     "end_time": "2023-09-27T04:35:22.445548200Z",
     "start_time": "2023-09-27T04:35:22.430395200Z"
    }
   }
  },
  {
   "cell_type": "code",
   "execution_count": 85,
   "outputs": [
    {
     "name": "stdout",
     "output_type": "stream",
     "text": [
      "Train Accuracy: 0.8449781659388647\n",
      "Test Accuracy: 0.8040712468193384\n"
     ]
    }
   ],
   "source": [
    "out_probs"
   ],
   "metadata": {
    "collapsed": false,
    "ExecuteTime": {
     "end_time": "2023-09-27T04:26:20.764217600Z",
     "start_time": "2023-09-27T04:26:20.733613500Z"
    }
   }
  }
 ],
 "metadata": {
  "kernelspec": {
   "display_name": "Python 3",
   "language": "python",
   "name": "python3"
  },
  "language_info": {
   "codemirror_mode": {
    "name": "ipython",
    "version": 2
   },
   "file_extension": ".py",
   "mimetype": "text/x-python",
   "name": "python",
   "nbconvert_exporter": "python",
   "pygments_lexer": "ipython2",
   "version": "2.7.6"
  }
 },
 "nbformat": 4,
 "nbformat_minor": 0
}
